{
 "cells": [
  {
   "cell_type": "code",
   "execution_count": 1,
   "metadata": {},
   "outputs": [],
   "source": [
    "import os\n",
    "os.makedirs('new_ndh', exist_ok=True)\n",
    "files = [x for x in os.listdir('ndh') if 'test' not in x]"
   ]
  },
  {
   "cell_type": "code",
   "execution_count": 3,
   "metadata": {},
   "outputs": [],
   "source": [
    "import json\n",
    "from collections import defaultdict\n",
    "object_locations = defaultdict(list)\n",
    "for file in files:\n",
    "    path = os.path.join('ndh', file)\n",
    "    with open(path, 'r') as f:\n",
    "        data = json.load(f)\n",
    "        for ins in data:\n",
    "            scan = ins['scan']\n",
    "            end_panos = ins['end_panos']\n",
    "            target = ins['target']\n",
    "            scan_end_panos = [f\"{scan}_{x}\" for x in end_panos]\n",
    "            if scan_end_panos not in object_locations[target]:\n",
    "                object_locations[target].append(scan_end_panos)\n",
    "\n",
    "ndh_objects = list(object_locations.keys())\n",
    "with open(\"coco.txt\", 'r') as f:\n",
    "    coco_objects = f.read().splitlines()\n",
    "coco_objects = [x.lower() for x in coco_objects]\n",
    "\n",
    "with open(\"lvis_v1_val.json\", 'r') as f:\n",
    "    lvis = json.load(f)\n",
    "lvis_categories = lvis['categories']\n",
    "lvis_objects = []\n",
    "for x in lvis_categories:\n",
    "    lvis_objects += [y.lower() for y in x['synonyms']]\n",
    "\n",
    "# calculate intersection\n",
    "ndh_objects = set(ndh_objects)\n",
    "coco_objects = set(coco_objects)\n",
    "lvis_objects = set(lvis_objects)\n",
    "lvis_intersection = ndh_objects.intersection(lvis_objects)\n",
    "coco_intersection = ndh_objects.intersection(coco_objects).difference(lvis_intersection)\n",
    "ndh_left = ndh_objects - lvis_intersection\n",
    "\n"
   ]
  },
  {
   "cell_type": "code",
   "execution_count": 4,
   "metadata": {},
   "outputs": [
    {
     "name": "stdout",
     "output_type": "stream",
     "text": [
      "46\n"
     ]
    }
   ],
   "source": [
    "lvis_locations = {}\n",
    "for obj in lvis_intersection:\n",
    "    lvis_locations[obj] = object_locations[obj]\n",
    "with open(\"lvis_location.json\", 'w') as f:\n",
    "    json.dump(lvis_locations, f, indent=4)\n",
    "print(len(lvis_locations))"
   ]
  },
  {
   "cell_type": "code",
   "execution_count": 5,
   "metadata": {},
   "outputs": [
    {
     "name": "stdout",
     "output_type": "stream",
     "text": [
      "34\n"
     ]
    }
   ],
   "source": [
    "need_label = {}\n",
    "for obj in ndh_left:\n",
    "    need_label[obj] = object_locations[obj]\n",
    "with open(\"need_label.json\", 'w') as f:\n",
    "    json.dump(need_label, f, indent=4)\n",
    "print(len(need_label))"
   ]
  }
 ],
 "metadata": {
  "kernelspec": {
   "display_name": "marl",
   "language": "python",
   "name": "marl"
  },
  "language_info": {
   "codemirror_mode": {
    "name": "ipython",
    "version": 3
   },
   "file_extension": ".py",
   "mimetype": "text/x-python",
   "name": "python",
   "nbconvert_exporter": "python",
   "pygments_lexer": "ipython3",
   "version": "3.7.10"
  }
 },
 "nbformat": 4,
 "nbformat_minor": 2
}
